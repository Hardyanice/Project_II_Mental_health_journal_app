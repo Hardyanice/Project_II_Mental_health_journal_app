{
 "cells": [
  {
   "cell_type": "code",
   "execution_count": 3,
   "id": "e353d290",
   "metadata": {},
   "outputs": [],
   "source": [
    "from sentence_transformers import SentenceTransformer\n",
    "from sklearn.linear_model import LogisticRegression, RidgeClassifier, PassiveAggressiveClassifier\n",
    "from sklearn.svm import LinearSVC\n",
    "from sklearn.naive_bayes import GaussianNB\n",
    "from sklearn.model_selection import train_test_split\n",
    "from sklearn.metrics import classification_report, accuracy_score\n",
    "import tensorflow as tf\n",
    "from tensorflow.keras.models import Sequential\n",
    "from tensorflow.keras.layers import GRU, Dense, Dropout\n",
    "import numpy as np\n",
    "import pandas as pd"
   ]
  },
  {
   "cell_type": "code",
   "execution_count": null,
   "id": "96caf4bf",
   "metadata": {},
   "outputs": [],
   "source": []
  },
  {
   "cell_type": "code",
   "execution_count": 4,
   "id": "24e805e9",
   "metadata": {},
   "outputs": [
    {
     "data": {
      "application/vnd.jupyter.widget-view+json": {
       "model_id": "0a8a0bc6585f4a6cafe0daa53d32891b",
       "version_major": 2,
       "version_minor": 0
      },
      "text/plain": [
       "Batches:   0%|          | 0/8 [00:00<?, ?it/s]"
      ]
     },
     "metadata": {},
     "output_type": "display_data"
    },
    {
     "name": "stderr",
     "output_type": "stream",
     "text": [
      "c:\\Users\\Souhar\\AppData\\Local\\Programs\\Python\\Python312\\Lib\\site-packages\\transformers\\models\\bert\\modeling_bert.py:407: UserWarning: 1Torch was not compiled with flash attention. (Triggered internally at ..\\aten\\src\\ATen\\native\\transformers\\cuda\\sdp_utils.cpp:263.)\n",
      "  attn_output = torch.nn.functional.scaled_dot_product_attention(\n"
     ]
    },
    {
     "data": {
      "application/vnd.jupyter.widget-view+json": {
       "model_id": "b1b77ad918c64d10b8d73f2ad68ef7a2",
       "version_major": 2,
       "version_minor": 0
      },
      "text/plain": [
       "Batches:   0%|          | 0/2 [00:00<?, ?it/s]"
      ]
     },
     "metadata": {},
     "output_type": "display_data"
    },
    {
     "name": "stdout",
     "output_type": "stream",
     "text": [
      "=== Scikit-learn Classifiers ===\n",
      "\n",
      "LogisticRegression Accuracy: 0.9483\n",
      "              precision    recall  f1-score   support\n",
      "\n",
      "           0       0.87      1.00      0.93        20\n",
      "           1       1.00      0.92      0.96        38\n",
      "\n",
      "    accuracy                           0.95        58\n",
      "   macro avg       0.93      0.96      0.94        58\n",
      "weighted avg       0.96      0.95      0.95        58\n",
      "\n",
      "\n",
      "RidgeClassifier Accuracy: 0.9310\n",
      "              precision    recall  f1-score   support\n",
      "\n",
      "           0       0.90      0.90      0.90        20\n",
      "           1       0.95      0.95      0.95        38\n",
      "\n",
      "    accuracy                           0.93        58\n",
      "   macro avg       0.92      0.92      0.92        58\n",
      "weighted avg       0.93      0.93      0.93        58\n",
      "\n",
      "\n",
      "PassiveAggressive Accuracy: 0.9310\n",
      "              precision    recall  f1-score   support\n",
      "\n",
      "           0       0.90      0.90      0.90        20\n",
      "           1       0.95      0.95      0.95        38\n",
      "\n",
      "    accuracy                           0.93        58\n",
      "   macro avg       0.92      0.92      0.92        58\n",
      "weighted avg       0.93      0.93      0.93        58\n",
      "\n",
      "\n",
      "LinearSVC Accuracy: 0.9310\n",
      "              precision    recall  f1-score   support\n",
      "\n",
      "           0       0.90      0.90      0.90        20\n",
      "           1       0.95      0.95      0.95        38\n",
      "\n",
      "    accuracy                           0.93        58\n",
      "   macro avg       0.92      0.92      0.92        58\n",
      "weighted avg       0.93      0.93      0.93        58\n",
      "\n",
      "\n",
      "GaussianNB Accuracy: 0.9483\n",
      "              precision    recall  f1-score   support\n",
      "\n",
      "           0       0.87      1.00      0.93        20\n",
      "           1       1.00      0.92      0.96        38\n",
      "\n",
      "    accuracy                           0.95        58\n",
      "   macro avg       0.93      0.96      0.94        58\n",
      "weighted avg       0.96      0.95      0.95        58\n",
      "\n",
      "\n",
      "=== GRU Classifier ===\n"
     ]
    },
    {
     "name": "stderr",
     "output_type": "stream",
     "text": [
      "c:\\Users\\Souhar\\AppData\\Local\\Programs\\Python\\Python312\\Lib\\site-packages\\keras\\src\\layers\\rnn\\rnn.py:200: UserWarning: Do not pass an `input_shape`/`input_dim` argument to a layer. When using Sequential models, prefer using an `Input(shape)` object as the first layer in the model instead.\n",
      "  super().__init__(**kwargs)\n"
     ]
    },
    {
     "name": "stdout",
     "output_type": "stream",
     "text": [
      "Epoch 1/10\n",
      "\u001b[1m7/7\u001b[0m \u001b[32m━━━━━━━━━━━━━━━━━━━━\u001b[0m\u001b[37m\u001b[0m \u001b[1m3s\u001b[0m 67ms/step - accuracy: 0.6789 - loss: 0.6778 - val_accuracy: 0.8261 - val_loss: 0.6024\n",
      "Epoch 2/10\n",
      "\u001b[1m7/7\u001b[0m \u001b[32m━━━━━━━━━━━━━━━━━━━━\u001b[0m\u001b[37m\u001b[0m \u001b[1m0s\u001b[0m 17ms/step - accuracy: 0.6868 - loss: 0.6074 - val_accuracy: 0.8696 - val_loss: 0.5228\n",
      "Epoch 3/10\n",
      "\u001b[1m7/7\u001b[0m \u001b[32m━━━━━━━━━━━━━━━━━━━━\u001b[0m\u001b[37m\u001b[0m \u001b[1m0s\u001b[0m 16ms/step - accuracy: 0.6541 - loss: 0.5588 - val_accuracy: 0.8696 - val_loss: 0.4509\n",
      "Epoch 4/10\n",
      "\u001b[1m7/7\u001b[0m \u001b[32m━━━━━━━━━━━━━━━━━━━━\u001b[0m\u001b[37m\u001b[0m \u001b[1m0s\u001b[0m 15ms/step - accuracy: 0.8249 - loss: 0.4705 - val_accuracy: 0.9130 - val_loss: 0.3741\n",
      "Epoch 5/10\n",
      "\u001b[1m7/7\u001b[0m \u001b[32m━━━━━━━━━━━━━━━━━━━━\u001b[0m\u001b[37m\u001b[0m \u001b[1m0s\u001b[0m 14ms/step - accuracy: 0.9139 - loss: 0.3937 - val_accuracy: 0.9130 - val_loss: 0.3118\n",
      "Epoch 6/10\n",
      "\u001b[1m7/7\u001b[0m \u001b[32m━━━━━━━━━━━━━━━━━━━━\u001b[0m\u001b[37m\u001b[0m \u001b[1m0s\u001b[0m 15ms/step - accuracy: 0.9478 - loss: 0.3253 - val_accuracy: 0.9565 - val_loss: 0.2613\n",
      "Epoch 7/10\n",
      "\u001b[1m7/7\u001b[0m \u001b[32m━━━━━━━━━━━━━━━━━━━━\u001b[0m\u001b[37m\u001b[0m \u001b[1m0s\u001b[0m 14ms/step - accuracy: 0.9610 - loss: 0.2420 - val_accuracy: 0.9130 - val_loss: 0.2122\n",
      "Epoch 8/10\n",
      "\u001b[1m7/7\u001b[0m \u001b[32m━━━━━━━━━━━━━━━━━━━━\u001b[0m\u001b[37m\u001b[0m \u001b[1m0s\u001b[0m 15ms/step - accuracy: 0.9717 - loss: 0.1980 - val_accuracy: 0.9565 - val_loss: 0.1706\n",
      "Epoch 9/10\n",
      "\u001b[1m7/7\u001b[0m \u001b[32m━━━━━━━━━━━━━━━━━━━━\u001b[0m\u001b[37m\u001b[0m \u001b[1m0s\u001b[0m 15ms/step - accuracy: 0.9852 - loss: 0.1435 - val_accuracy: 1.0000 - val_loss: 0.1339\n",
      "Epoch 10/10\n",
      "\u001b[1m7/7\u001b[0m \u001b[32m━━━━━━━━━━━━━━━━━━━━\u001b[0m\u001b[37m\u001b[0m \u001b[1m0s\u001b[0m 14ms/step - accuracy: 0.9900 - loss: 0.1121 - val_accuracy: 1.0000 - val_loss: 0.1109\n",
      "\u001b[1m2/2\u001b[0m \u001b[32m━━━━━━━━━━━━━━━━━━━━\u001b[0m\u001b[37m\u001b[0m \u001b[1m0s\u001b[0m 160ms/step\n",
      "GRU Accuracy: 0.9137931034482759\n",
      "              precision    recall  f1-score   support\n",
      "\n",
      "           0       0.86      0.90      0.88        20\n",
      "           1       0.95      0.92      0.93        38\n",
      "\n",
      "    accuracy                           0.91        58\n",
      "   macro avg       0.90      0.91      0.91        58\n",
      "weighted avg       0.92      0.91      0.91        58\n",
      "\n"
     ]
    }
   ],
   "source": [
    "# ---------------------------\n",
    "# Load data\n",
    "# ---------------------------\n",
    "df = pd.read_csv('cleaned_teen_mental_health_data.csv')\n",
    "texts = df['user_input']\n",
    "labels = df['negative_self_talk'].values\n",
    "\n",
    "X_train, X_test, y_train, y_test = train_test_split(\n",
    "    texts, labels, test_size=0.2, random_state=42, stratify=labels\n",
    ")\n",
    "\n",
    "# ---------------------------\n",
    "# Load SBERT and compute embeddings\n",
    "# ---------------------------\n",
    "sbert_model = SentenceTransformer('all-MiniLM-L6-v2')\n",
    "X_train_emb = sbert_model.encode(X_train.tolist(), convert_to_numpy=True, show_progress_bar=True)\n",
    "X_test_emb  = sbert_model.encode(X_test.tolist(), convert_to_numpy=True, show_progress_bar=True)\n",
    "\n",
    "# ---------------------------\n",
    "# Define scikit-learn classifiers\n",
    "# ---------------------------\n",
    "sklearn_classifiers = {\n",
    "    \"LogisticRegression\": LogisticRegression(max_iter=1000, class_weight=\"balanced\"),\n",
    "    \"RidgeClassifier\": RidgeClassifier(),\n",
    "    \"PassiveAggressive\": PassiveAggressiveClassifier(max_iter=1000, C=1.0),\n",
    "    \"LinearSVC\": LinearSVC(max_iter=5000, class_weight=\"balanced\"),\n",
    "    \"GaussianNB\": GaussianNB()\n",
    "}\n",
    "\n",
    "print(\"=== Scikit-learn Classifiers ===\")\n",
    "for name, clf in sklearn_classifiers.items():\n",
    "    clf.fit(X_train_emb, y_train)\n",
    "    y_pred = clf.predict(X_test_emb)\n",
    "    print(f\"\\n{name} Accuracy: {accuracy_score(y_test, y_pred):.4f}\")\n",
    "    print(classification_report(y_test, y_pred))\n",
    "\n",
    "# ---------------------------\n",
    "# GRU-based classifier using TensorFlow\n",
    "# ---------------------------\n",
    "print(\"\\n=== GRU Classifier ===\")\n",
    "X_train_emb_tf = np.expand_dims(X_train_emb, axis=1)  # GRU expects 3D input: (samples, timesteps, features)\n",
    "X_test_emb_tf = np.expand_dims(X_test_emb, axis=1)\n",
    "\n",
    "gru_model = Sequential([\n",
    "    GRU(64, input_shape=(X_train_emb_tf.shape[1], X_train_emb_tf.shape[2]), return_sequences=False),\n",
    "    Dropout(0.2),\n",
    "    Dense(32, activation='relu'),\n",
    "    Dense(1, activation='sigmoid')\n",
    "])\n",
    "\n",
    "gru_model.compile(optimizer='adam', loss='binary_crossentropy', metrics=['accuracy'])\n",
    "gru_model.fit(X_train_emb_tf, y_train, epochs=10, batch_size=32, validation_split=0.1)\n",
    "\n",
    "y_pred_gru = (gru_model.predict(X_test_emb_tf) > 0.5).astype(int).flatten()\n",
    "print(\"GRU Accuracy:\", accuracy_score(y_test, y_pred_gru))\n",
    "print(classification_report(y_test, y_pred_gru))\n"
   ]
  },
  {
   "cell_type": "markdown",
   "id": "9b7cfdfd",
   "metadata": {},
   "source": [
    "Based on classification reports, we choose LogisiticRegression model"
   ]
  },
  {
   "cell_type": "code",
   "execution_count": null,
   "id": "62e9bfdb",
   "metadata": {},
   "outputs": [],
   "source": []
  },
  {
   "cell_type": "code",
   "execution_count": 5,
   "id": "06e30cc5",
   "metadata": {},
   "outputs": [
    {
     "name": "stdout",
     "output_type": "stream",
     "text": [
      "Predicted labels: [1 1]\n",
      "Decision scores: [2.43238093 1.32172739]\n"
     ]
    }
   ],
   "source": [
    "# Assume 'sklearn_classifiers' contains your trained classifiers\n",
    "# Pick the trained LogisticRegression\n",
    "logreg_clf = sklearn_classifiers['LogisticRegression']\n",
    "\n",
    "# Test sentences\n",
    "test_sentences = [\n",
    "    \"I feel like I’m worthless and can’t do anything right.\",\n",
    "    \"I’m a failure and I’ll never be good enough.\",\n",
    "]\n",
    "\n",
    "# Convert sentences to embeddings\n",
    "test_emb = sbert_model.encode(test_sentences, convert_to_numpy=True)\n",
    "\n",
    "# Predict labels using the trained LogisticRegression\n",
    "pred_labels = logreg_clf.predict(test_emb)\n",
    "print(\"Predicted labels:\", pred_labels)\n",
    "\n",
    "# Optional: decision scores\n",
    "if hasattr(logreg_clf, \"decision_function\"):\n",
    "    scores = logreg_clf.decision_function(test_emb)\n",
    "    print(\"Decision scores:\", scores)\n"
   ]
  },
  {
   "cell_type": "markdown",
   "id": "fa3bca88",
   "metadata": {},
   "source": [
    "## Saving the model"
   ]
  },
  {
   "cell_type": "code",
   "execution_count": 6,
   "id": "43d0cd71",
   "metadata": {},
   "outputs": [],
   "source": [
    "import joblib\n",
    "from sentence_transformers import SentenceTransformer\n",
    "import numpy as np\n",
    "\n",
    "class SBERTClassifier:\n",
    "    def __init__(self, embedder, classifier):\n",
    "        self.embedder = embedder  # SentenceTransformer model\n",
    "        self.classifier = classifier  # trained sklearn classifier\n",
    "\n",
    "    def predict(self, texts):\n",
    "        embeddings = self.embedder.encode(texts, convert_to_numpy=True)\n",
    "        return self.classifier.predict(embeddings)\n",
    "\n",
    "    def decision_function(self, texts):\n",
    "        if hasattr(self.classifier, \"decision_function\"):\n",
    "            embeddings = self.embedder.encode(texts, convert_to_numpy=True)\n",
    "            return self.classifier.decision_function(embeddings)\n",
    "        else:\n",
    "            raise AttributeError(\"Classifier does not support decision_function\")\n"
   ]
  },
  {
   "cell_type": "code",
   "execution_count": 7,
   "id": "e6628ae3",
   "metadata": {},
   "outputs": [],
   "source": [
    "# Assume 'sbert_model' is your trained SBERT\n",
    "# and 'clf' is your trained LogisticRegression (or any sklearn classifier)\n",
    "full_model = SBERTClassifier(embedder=sbert_model, classifier=logreg_clf)\n"
   ]
  },
  {
   "cell_type": "markdown",
   "id": "76cf881b",
   "metadata": {},
   "source": [
    "## Load and use"
   ]
  },
  {
   "cell_type": "code",
   "execution_count": null,
   "id": "1895a228",
   "metadata": {},
   "outputs": [],
   "source": [
    "joblib.dump(full_model, \"neg_selftalk_full_model.pkl\")\n",
    "print(\"✅ Full SBERT + classifier model saved!\")\n"
   ]
  },
  {
   "cell_type": "code",
   "execution_count": 8,
   "id": "31300628",
   "metadata": {},
   "outputs": [
    {
     "name": "stdout",
     "output_type": "stream",
     "text": [
      "Predicted labels: [1 0]\n",
      "Decision scores: [ 1.07315471 -2.2493222 ]\n"
     ]
    }
   ],
   "source": [
    "# Load the full model\n",
    "loaded_model = joblib.load(\"neg_selftalk_full_model.pkl\")\n",
    "\n",
    "# Test with new sentences\n",
    "test_sentences = [\n",
    "    \"I feel worthless today.\",\n",
    "    \"I am excited about my project!\"\n",
    "]\n",
    "\n",
    "preds = loaded_model.predict(test_sentences)\n",
    "print(\"Predicted labels:\", preds)\n",
    "\n",
    "# Optional: decision scores\n",
    "scores = loaded_model.decision_function(test_sentences)\n",
    "print(\"Decision scores:\", scores)\n"
   ]
  },
  {
   "cell_type": "code",
   "execution_count": null,
   "id": "b6b84bd8",
   "metadata": {},
   "outputs": [],
   "source": []
  }
 ],
 "metadata": {
  "kernelspec": {
   "display_name": "Python 3",
   "language": "python",
   "name": "python3"
  },
  "language_info": {
   "codemirror_mode": {
    "name": "ipython",
    "version": 3
   },
   "file_extension": ".py",
   "mimetype": "text/x-python",
   "name": "python",
   "nbconvert_exporter": "python",
   "pygments_lexer": "ipython3",
   "version": "3.12.5"
  }
 },
 "nbformat": 4,
 "nbformat_minor": 5
}
